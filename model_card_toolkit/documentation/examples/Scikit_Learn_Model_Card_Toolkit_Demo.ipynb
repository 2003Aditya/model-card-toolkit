{
  "cells": [
    {
      "cell_type": "markdown",
      "metadata": {
        "colab_type": "text",
        "id": "uzshmL3siYjv"
      },
      "source": [
        "##### Copyright © 2020 The TensorFlow Authors."
      ]
    },
    {
      "cell_type": "code",
      "execution_count": null,
      "metadata": {
        "colab": {},
        "colab_type": "code",
        "id": "15_lEO_CiYjw"
      },
      "outputs": [],
      "source": [
        "#@title Licensed under the Apache License, Version 2.0 (the \"License\");\n",
        "# you may not use this file except in compliance with the License.\n",
        "# You may obtain a copy of the License at\n",
        "#\n",
        "# https://www.apache.org/licenses/LICENSE-2.0\n",
        "#\n",
        "# Unless required by applicable law or agreed to in writing, software\n",
        "# distributed under the License is distributed on an \"AS IS\" BASIS,\n",
        "# WITHOUT WARRANTIES OR CONDITIONS OF ANY KIND, either express or implied.\n",
        "# See the License for the specific language governing permissions and\n",
        "# limitations under the License."
      ]
    },
    {
      "cell_type": "markdown",
      "metadata": {
        "colab_type": "text",
        "id": "A5epNF_aiYj0"
      },
      "source": [
        "# Scikit-Learn Model Card Toolkit Demo\n",
        "\n",
        "## Background\n",
        "This notebook demonstrates how to generate a model card using the Model Card Toolkit with a scikit-learn model in a Jupyter/Colab environment. You can learn more about model cards at [https://modelcards.withgoogle.com/about](https://modelcards.withgoogle.com/about).\n",
        "\n",
        "## Setup\n",
        "We first need to install and import the necessary packages.\n",
        "\n",
        "### Upgrade Pip and Install Packages"
      ]
    },
    {
      "cell_type": "code",
      "execution_count": null,
      "metadata": {
        "colab": {},
        "colab_type": "code",
        "id": "cvF-yBM0iYj1"
      },
      "outputs": [],
      "source": [
        "try:\n",
        "    import colab\n",
        "    !pip install --upgrade pip\n",
        "except:\n",
        "    pass"
      ]
    },
    {
      "cell_type": "code",
      "execution_count": null,
      "metadata": {
        "colab": {},
        "colab_type": "code",
        "id": "1OiOQJDPiYj3"
      },
      "outputs": [],
      "source": [
        "!pip install -U seaborn\n",
        "!pip install sklearn\n",
        "!pip install model-card-toolkit"
      ]
    },
    {
      "cell_type": "markdown",
      "metadata": {
        "colab_type": "text",
        "id": "JpcNkrmLiYj7"
      },
      "source": [
        "### Did you restart the runtime?\n",
        "If you are using Google Colab, the first time that you run the cell above, you must restart the runtime (Runtime \u003e Restart runtime ...). This is because of the way that Colab loads packages.\n",
        "\n",
        "### Import packages\n",
        "We import necessary packages, including scikit-learn."
      ]
    },
    {
      "cell_type": "code",
      "execution_count": 1,
      "metadata": {
        "colab": {
          "height": 238
        },
        "colab_type": "code",
        "executionInfo": {
          "elapsed": 866,
          "status": "error",
          "timestamp": 1600293712741,
          "user": {
            "displayName": "",
            "photoUrl": "",
            "userId": ""
          },
          "user_tz": 420
        },
        "id": "y25vFI3WiYj7",
        "outputId": "669631d0-9dc5-45b5-e100-5cca9145e09b"
      },
      "outputs": [
        {
          "ename": "ModuleNotFoundError",
          "evalue": "ignored",
          "output_type": "error",
          "traceback": [
            "\u001b[1;31m---------------------------------------------------------------------------\u001b[0m\n\u001b[1;31mModuleNotFoundError\u001b[0m                       Traceback (most recent call last)",
            "\u001b[1;32m\u003cipython-input-1-2c4dd6c30bbc\u003e\u001b[0m in \u001b[0;36m\u003cmodule\u003e\u001b[1;34m()\u001b[0m\n\u001b[0;32m      2\u001b[0m \u001b[1;32mfrom\u001b[0m \u001b[0mio\u001b[0m \u001b[1;32mimport\u001b[0m \u001b[0mBytesIO\u001b[0m\u001b[1;33m\u001b[0m\u001b[1;33m\u001b[0m\u001b[0m\n\u001b[0;32m      3\u001b[0m \u001b[1;32mfrom\u001b[0m \u001b[0mIPython\u001b[0m \u001b[1;32mimport\u001b[0m \u001b[0mdisplay\u001b[0m\u001b[1;33m\u001b[0m\u001b[1;33m\u001b[0m\u001b[0m\n\u001b[1;32m----\u003e 4\u001b[1;33m \u001b[1;32mfrom\u001b[0m \u001b[0mmodel_card_toolkit\u001b[0m \u001b[1;32mimport\u001b[0m \u001b[0mModelCardToolkit\u001b[0m\u001b[1;33m\u001b[0m\u001b[1;33m\u001b[0m\u001b[0m\n\u001b[0m\u001b[0;32m      5\u001b[0m \u001b[1;32mfrom\u001b[0m \u001b[0msklearn\u001b[0m\u001b[1;33m.\u001b[0m\u001b[0mdatasets\u001b[0m \u001b[1;32mimport\u001b[0m \u001b[0mload_breast_cancer\u001b[0m\u001b[1;33m\u001b[0m\u001b[1;33m\u001b[0m\u001b[0m\n\u001b[0;32m      6\u001b[0m \u001b[1;32mfrom\u001b[0m \u001b[0msklearn\u001b[0m\u001b[1;33m.\u001b[0m\u001b[0mensemble\u001b[0m \u001b[1;32mimport\u001b[0m \u001b[0mGradientBoostingClassifier\u001b[0m\u001b[1;33m\u001b[0m\u001b[1;33m\u001b[0m\u001b[0m\n",
            "\u001b[1;31mModuleNotFoundError\u001b[0m: No module named 'model_card_toolkit'"
          ]
        }
      ],
      "source": [
        "from datetime import date\n",
        "from io import BytesIO\n",
        "from IPython import display\n",
        "from model_card_toolkit import ModelCardToolkit\n",
        "from sklearn.datasets import load_breast_cancer\n",
        "from sklearn.ensemble import GradientBoostingClassifier\n",
        "from sklearn.model_selection import train_test_split\n",
        "from sklearn.metrics import plot_roc_curve, plot_confusion_matrix\n",
        "\n",
        "import base64\n",
        "import matplotlib.pyplot as plt\n",
        "import pandas as pd\n",
        "import seaborn as sns\n",
        "import uuid"
      ]
    },
    {
      "cell_type": "markdown",
      "metadata": {
        "colab_type": "text",
        "id": "XVdpINibiYj-"
      },
      "source": [
        "## Load data\n",
        "\n",
        "This example uses the Breast Cancer Wisconsin Diagnostic dataset that scikit-learn can load using the [load_breast_cancer()](https://scikit-learn.org/stable/modules/generated/sklearn.datasets.load_breast_cancer.html) function."
      ]
    },
    {
      "cell_type": "code",
      "execution_count": null,
      "metadata": {
        "colab": {},
        "colab_type": "code",
        "id": "aR6kzqPeiYj_"
      },
      "outputs": [],
      "source": [
        "cancer = load_breast_cancer()\n",
        "\n",
        "X = pd.DataFrame(cancer.data, columns=cancer.feature_names)\n",
        "y = pd.Series(cancer.target)\n",
        "\n",
        "X_train, X_test, y_train, y_test = train_test_split(X, y)"
      ]
    },
    {
      "cell_type": "code",
      "execution_count": null,
      "metadata": {
        "colab": {},
        "colab_type": "code",
        "id": "DwjxhVtTiYkB"
      },
      "outputs": [],
      "source": [
        "X_train.head()"
      ]
    },
    {
      "cell_type": "code",
      "execution_count": null,
      "metadata": {
        "colab": {},
        "colab_type": "code",
        "id": "fCOK-1gyiYkE"
      },
      "outputs": [],
      "source": [
        "y_train.head()"
      ]
    },
    {
      "cell_type": "markdown",
      "metadata": {
        "colab_type": "text",
        "id": "KmOnApwWiYkG"
      },
      "source": [
        "## Plot data\n",
        "\n",
        "We will create several plots from the data that we will include in the model card."
      ]
    },
    {
      "cell_type": "code",
      "execution_count": null,
      "metadata": {
        "colab": {},
        "colab_type": "code",
        "id": "O9n6rAV7iYkG"
      },
      "outputs": [],
      "source": [
        "# Utility function that will export a plot to a base-64 encoded string that the model card will accept.\n",
        "\n",
        "def plot_to_str():\n",
        "    img = BytesIO()\n",
        "    plt.savefig(img, format='png')\n",
        "    return base64.encodebytes(img.getvalue()).decode('utf-8')"
      ]
    },
    {
      "cell_type": "code",
      "execution_count": null,
      "metadata": {
        "colab": {},
        "colab_type": "code",
        "id": "lpZLJG3hiYkI"
      },
      "outputs": [],
      "source": [
        "# Plot the mean radius feature for both the train and test sets\n",
        "\n",
        "sns.displot(x=X_train['mean radius'], hue=y_train)\n",
        "mean_radius_train = plot_to_str()\n",
        "\n",
        "sns.displot(x=X_test['mean radius'], hue=y_test)\n",
        "mean_radius_test = plot_to_str()"
      ]
    },
    {
      "cell_type": "code",
      "execution_count": null,
      "metadata": {
        "colab": {},
        "colab_type": "code",
        "id": "sFenUqQPiYkK"
      },
      "outputs": [],
      "source": [
        "# Plot the mean texture feature for both the train and test sets\n",
        "\n",
        "sns.displot(x=X_train['mean texture'], hue=y_train)\n",
        "mean_texture_train = plot_to_str()\n",
        "\n",
        "sns.displot(x=X_test['mean texture'], hue=y_test)\n",
        "mean_texture_test = plot_to_str()"
      ]
    },
    {
      "cell_type": "markdown",
      "metadata": {
        "colab_type": "text",
        "id": "hA7QthuhiYkM"
      },
      "source": [
        "## Train model"
      ]
    },
    {
      "cell_type": "code",
      "execution_count": null,
      "metadata": {
        "colab": {},
        "colab_type": "code",
        "id": "8VkTo7BxiYkN"
      },
      "outputs": [],
      "source": [
        "# Create a classifier and fit the training data\n",
        "\n",
        "clf = GradientBoostingClassifier().fit(X_train, y_train)"
      ]
    },
    {
      "cell_type": "markdown",
      "metadata": {
        "colab_type": "text",
        "id": "7fo-7XlIiYkP"
      },
      "source": [
        "## Evaluate model"
      ]
    },
    {
      "cell_type": "code",
      "execution_count": null,
      "metadata": {
        "colab": {},
        "colab_type": "code",
        "id": "_vEWAT2OiYkP"
      },
      "outputs": [],
      "source": [
        "# Plot a ROC curve\n",
        "\n",
        "plot_roc_curve(clf, X_test, y_test)\n",
        "roc_curve = plot_to_str()"
      ]
    },
    {
      "cell_type": "code",
      "execution_count": null,
      "metadata": {
        "colab": {},
        "colab_type": "code",
        "id": "QiNgUZKxiYkR"
      },
      "outputs": [],
      "source": [
        "# Plot a confusion matrix\n",
        "\n",
        "plot_confusion_matrix(clf, X_test, y_test)\n",
        "confusion_matrix = plot_to_str()"
      ]
    },
    {
      "cell_type": "markdown",
      "metadata": {
        "colab_type": "text",
        "id": "gN48E4y-iYkT"
      },
      "source": [
        "## Create a model card"
      ]
    },
    {
      "cell_type": "markdown",
      "metadata": {
        "colab_type": "text",
        "id": "CBdRuxURiYkT"
      },
      "source": [
        "### Initialize toolkit and model card"
      ]
    },
    {
      "cell_type": "code",
      "execution_count": null,
      "metadata": {
        "colab": {},
        "colab_type": "code",
        "id": "CI9ganKQiYkT"
      },
      "outputs": [],
      "source": [
        "mct = ModelCardToolkit()\n",
        "\n",
        "model_card = mct.scaffold_assets()"
      ]
    },
    {
      "cell_type": "markdown",
      "metadata": {
        "colab_type": "text",
        "id": "CERQtrHWiYkV"
      },
      "source": [
        "### Annotate information into model card"
      ]
    },
    {
      "cell_type": "code",
      "execution_count": null,
      "metadata": {
        "colab": {},
        "colab_type": "code",
        "id": "TLzNJ_kriYkV"
      },
      "outputs": [],
      "source": [
        "model_card.model_details.name = 'Breast Cancer Wisconsin (Diagnostic) Dataset'\n",
        "model_card.model_details.overview = (\n",
        "    'This model predicts whether breast cancer is benign or malignant based on '\n",
        "    'image measurements.')\n",
        "model_card.model_details.owners = [\n",
        "    {'name': 'Model Cards Team', 'contact': 'model-cards@google.com'}\n",
        "]\n",
        "model_card.model_details.references = [\n",
        "    'https://archive.ics.uci.edu/ml/datasets/Breast+Cancer+Wisconsin+(Diagnostic)',\n",
        "    'https://minds.wisconsin.edu/bitstream/handle/1793/59692/TR1131.pdf'\n",
        "]\n",
        "model_card.model_details.version.name = str(uuid.uuid4())\n",
        "model_card.model_details.version.date = str(date.today())\n",
        "\n",
        "model_card.considerations.ethical_considerations = [{\n",
        "    'name': ('Manual selection of image sections to digitize could create '\n",
        "            'selection bias'),\n",
        "    'mitigation_strategy': 'Automate the selection process'\n",
        "}]\n",
        "model_card.considerations.limitations = ['Breast cancer diagnosis']\n",
        "model_card.considerations.use_cases = ['Breast cancer diagnosis']\n",
        "model_card.considerations.users = ['Medical professionals', 'ML researchers']\n",
        "\n",
        "\n",
        "model_card.model_parameters.data.train.graphics.description = (\n",
        "  f'{len(X_train)} rows with {len(X_train.columns)} features')\n",
        "model_card.model_parameters.data.train.graphics.collection = [\n",
        "    {'image': mean_radius_train},\n",
        "    {'image': mean_texture_train}\n",
        "]\n",
        "model_card.model_parameters.data.eval.graphics.description = (\n",
        "  f'{len(X_test)} rows with {len(X_test.columns)} features')\n",
        "model_card.model_parameters.data.eval.graphics.collection = [\n",
        "    {'image': mean_radius_test},\n",
        "    {'image': mean_texture_test}\n",
        "]\n",
        "model_card.quantitative_analysis.graphics.description = (\n",
        "  'ROC curve and confusion matrix')\n",
        "model_card.quantitative_analysis.graphics.collection = [\n",
        "    {'image': roc_curve},\n",
        "    {'image': confusion_matrix}\n",
        "]\n",
        "\n",
        "mct.update_model_card_json(model_card)"
      ]
    },
    {
      "cell_type": "markdown",
      "metadata": {
        "colab_type": "text",
        "id": "TBqFqMHEiYkX"
      },
      "source": [
        "## Generate model card"
      ]
    },
    {
      "cell_type": "code",
      "execution_count": null,
      "metadata": {
        "colab": {},
        "colab_type": "code",
        "id": "XUEG7n7ciYkY"
      },
      "outputs": [],
      "source": [
        "\n",
        "# Return the model card document as an HTML page\n",
        "html = mct.export_format()\n",
        "\n",
        "display.display(display.HTML(html))"
      ]
    }
  ],
  "metadata": {
    "colab": {
      "collapsed_sections": [],
      "name": "Scikit_Learn_Model_Card_Toolkit_Demo.ipynb",
      "provenance": []
    },
    "environment": {
      "name": "tf2-gpu.2-1.m46",
      "type": "gcloud",
      "uri": "gcr.io/deeplearning-platform-release/tf2-gpu.2-1:m46"
    },
    "kernelspec": {
      "display_name": "Python 3",
      "language": "python",
      "name": "python3"
    },
    "language_info": {
      "codemirror_mode": {
        "name": "ipython",
        "version": 3
      },
      "file_extension": ".py",
      "mimetype": "text/x-python",
      "name": "python",
      "nbconvert_exporter": "python",
      "pygments_lexer": "ipython3",
      "version": "3.7.6"
    }
  },
  "nbformat": 4,
  "nbformat_minor": 0
}
